{
 "cells": [
  {
   "cell_type": "markdown",
   "metadata": {},
   "source": [
    "## Tutorial_04_preparation\n",
    "\n",
    "\n",
    "* This is the tutorial demonstrating an example of mW parameterization\n",
    "* The mW (monoatomic water) is a coarse-grained water model dervied from Stillinger-Weber potential form [1-2]. The model quantitatively predicts many physical properties of water with the accuracy comparable to those of atomistic water models, while being more computationally efficient.\n",
    "* It is a short-ranged potential with pairwise potential plus a three-body term that penalizes the configuration that deviates from tetrahedral angle. \n",
    "* The full potential contains 11 free parameters. \n",
    "* Functional form: \n",
    "<img src=\"sw_potential.png\" width=\"600\">"
   ]
  },
  {
   "cell_type": "markdown",
   "metadata": {},
   "source": [
    "### Genearting Initial configuration (mbuild): "
   ]
  },
  {
   "cell_type": "code",
   "execution_count": null,
   "metadata": {},
   "outputs": [],
   "source": [
    "import mbuild as mb\n",
    "\n",
    "# initialize a compound object\n",
    "cg_water = mb.Compound()\n",
    "\n",
    "\n",
    "# create a coarse-grained water bead,\"_xx\" name used for a coarse-grained system\n",
    "\n",
    "cg_bead = mb.Particle(name='_H2O', pos=[0, 0, 0])\n",
    "\n",
    "# add each bead to\n",
    "cg_water.add([cg_bead])\n",
    "\n",
    "# fill a box with the defined \"compound\". box size is chosen to match with density 0.997g/cm3 for water\n",
    "cg_water_box = mb.fill_box(compound=cg_water,\n",
    "                           n_compounds=512,\n",
    "                           box=[2.4859,2.4859,2.4859],\n",
    "                           seed=2020)\n",
    "\n",
    "# use a .xml file to change the molar mass of coarse-grained bead to water's molar mass; save the configuration in LAMMPS data file format\n",
    "cg_water_box.save('mW.lmp',\n",
    "                  forcefield_files=\"water.xml\",\n",
    "                  overwrite=True,\n",
    "                  foyer_kwargs={\"assert_bond_params\":False})\n",
    "\n"
   ]
  },
  {
   "cell_type": "markdown",
   "metadata": {},
   "source": [
    "### Prepare the reference data (An example)\n",
    "* In a Reference data folder (e.g. \"ReferenceData\"), mkdir \"force\" folder (e.g. force, rdf, isobars)\n",
    "* Remember the folder path of Reference data folder containing all your reference data. e.g. \"/project/ReferenceData\".  \n",
    "* Create a subfolder inisde it with a more descriptive name like \"mW_300K_1bar\"\n",
    "* Perform a short production run of 2.5ns at 300K and 1bar to generate coordinates, force, and potential energy with sampling frequency of 5ps.\n",
    "* Name the generated reference data as \"Ref.xxx\" where \"xxx\" is a property name. \"Ref.xxx\" is the default name used by objective function calculations, and they can be modified through source code in objective/force_matching or objective/rdf_matching or objective/isobar_matching\n",
    "* Move those Reference data to the subfolder you created before. "
   ]
  },
  {
   "cell_type": "markdown",
   "metadata": {},
   "source": [
    "### Prepare a template folder for predicted data (An example)\n",
    "\n",
    "* In a template folder for predicted data (e.g. prepsystem), mkdir \"force\" folder (e.g. force, rdf, isobars) \n",
    "* Remember the folder path of Reference data folder containing all your reference data. e.g. \"/project/prepsystem\"\n",
    "* Make sure all subfolders inside the \"properties\" folder match exactly as those of Reference data\n",
    "* For every folder, make sure you prepare necessary run input files for simulators of choice, and files associated with initial configuration. \n",
    "* Make sure the output predicted data file name is \"predict.xxx\" where \"xxx\" is a property name. \"predict.xxx\" is the default name used by objective function calculations, and they can be modified through source code in objective/force_matching or objective/rdf_matching or objective/isobar_matching"
   ]
  },
  {
   "cell_type": "markdown",
   "metadata": {},
   "source": [
    "### Prepare the shell command\n",
    "\n",
    "* Current package is tested to work with the Slurm command. \n",
    "* The command is a string with two formatted variables. Here is an example of runing the LAMMPS from command-line interface. e.g. \"module load intel && srun -n %d -N1 -c1 --mpi=pmi2 lmp_ml_water < in.%s\" where %d can be number of cores and the in.%s will be substituted by \"in.properties\", e.g. in.force, in.isobar, in.rdf\n",
    "* Make sure the shell command can be correctly invoked from the command-line in each predicted folder.  \n",
    " "
   ]
  },
  {
   "cell_type": "markdown",
   "metadata": {},
   "source": [
    "###  Prepare the input script\n",
    "\n",
    "* choose units\n",
    "\n",
    "real   \n",
    "\n",
    "* objective function defined as the following format: \n",
    "* 'matching type', 'sub_folder name',\"weight of current objective functions\", \"cores for running sampling\",\"cores for evaluating objective functions\"\n",
    "* The corresponding python data type is: \"string\",\"string\", \"float\",\"integer\",\"integer\" \n",
    "* \"bf\" is the buffer size. How many configurations to be read into memory for each core. \n",
    "* \"w\" is the weight\n",
    "\n",
    "force mW_300K_1bar_500 1 2 2 bf 5000 w 0 1   \n",
    "\n",
    "* shell command to launch sampling in each folder :  \n",
    "* Python subprocess module launch these commands in non-blocking manner in each desired folder:\n",
    "* sampling input file names will be subsistuted as: in.force, in.rdf, in.isobar ... \n",
    "* Default sampling package is LAMMPS \n",
    "\n",
    "module load intel/psxe-2019-64-bit && srun -n %d -N1 -c1 --exclusive --mpi=pmi2 lmp_ml_water < in.%s"
   ]
  },
  {
   "cell_type": "markdown",
   "metadata": {},
   "source": [
    "### Reference: \n",
    "\n",
    "[1]: Molinero, V., & Moore, E. B. (2009). Water Modeled As an Intermediate Element between Carbon and Silicon. J. Phys. Chem. B, 113(13), 4008–4016. https://doi.org/10.1021/jp805227c\n",
    "\n",
    "[2]: Stillinger, F. H., & Rahman, A. (1974). Improved Simulation of Liquid Water by Molecular-Dynamics. J. Chem. Phys., 60(4), 1545–1557. https://doi.org/10.1063/1.1681229\n",
    "\n"
   ]
  }
 ],
 "metadata": {
  "kernelspec": {
   "display_name": "Python 3",
   "language": "python",
   "name": "python3"
  },
  "language_info": {
   "codemirror_mode": {
    "name": "ipython",
    "version": 3
   },
   "file_extension": ".py",
   "mimetype": "text/x-python",
   "name": "python",
   "nbconvert_exporter": "python",
   "pygments_lexer": "ipython3",
   "version": "3.7.6"
  }
 },
 "nbformat": 4,
 "nbformat_minor": 4
}
