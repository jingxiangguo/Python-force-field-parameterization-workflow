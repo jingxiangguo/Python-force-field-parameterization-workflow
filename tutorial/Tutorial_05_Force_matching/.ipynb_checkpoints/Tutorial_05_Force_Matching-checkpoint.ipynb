{
 "cells": [
  {
   "cell_type": "markdown",
   "metadata": {},
   "source": [
    "## Tutorial 05: Recovering the force-field parameters of mW water model using force-matching method. "
   ]
  },
  {
   "cell_type": "markdown",
   "metadata": {},
   "source": [
    "* Here we demonstrate how to use force-matching method to recover the standard force-field parameters of mW water. "
   ]
  },
  {
   "cell_type": "markdown",
   "metadata": {},
   "source": [
    "* Force-matching is commonly used to parameterize a coarse-grained force-field. As its name suggests, it aims to tune the molecular simulation force-field parameters such that the intermolecular forces predicted by coarse-grained site can match with the intermolecular force projected onto the coarse-grained site from the atomic groups in the reference system [1,2]. The method can deal with complex force field functional forms when sufficient intermolecular forces data are available."
   ]
  },
  {
   "cell_type": "markdown",
   "metadata": {},
   "source": [
    "* Objective functional form of force matching method:\n",
    "\n",
    "<img src=\"force_matching.png\" width=\"400\">\n",
    "\n",
    "* Where N is number of particles and M is the number of configurations"
   ]
  },
  {
   "cell_type": "markdown",
   "metadata": {},
   "source": [
    "### Step 1: Generating the reference data"
   ]
  },
  {
   "cell_type": "markdown",
   "metadata": {},
   "source": [
    "#### Generating the intermolecular forces and energy data. \n",
    "\n",
    "* A cubic box of 512 particles interacting via standard mW potential. \n",
    "* MD simulation at T=300K and P=1bar. \n",
    "* The configurations are generated every 5 ps and total of 500 configuratinos are generated. \n",
    "* Reference data include: (1) a LAMMPS trajectory file containing only coordinates and box information, (2) a LAMMPS trajectory file containing only forces (fx,fy,fz), (3) a txt file containing potential energy of each configuration. "
   ]
  },
  {
   "cell_type": "markdown",
   "metadata": {},
   "source": [
    "### Step 2: Force matching Implementation in LAMMPS"
   ]
  },
  {
   "cell_type": "markdown",
   "metadata": {},
   "source": [
    "#### Necessary input: \n",
    "* number of particles\n",
    "* simulation box information\n",
    "* file path to configurations in LAMMPS trajectory format. \n",
    "\n",
    "#### Features\n",
    "* compute the forces, potential energy and other thermoynamic properties for every snapshot of configuration\n",
    "* Fix with time integration is not allowed\n",
    "* run the calculations in parallel."
   ]
  },
  {
   "cell_type": "markdown",
   "metadata": {},
   "source": [
    "### Step 3: run the optimization"
   ]
  },
  {
   "cell_type": "markdown",
   "metadata": {},
   "source": [
    "* Run the following command either interactively or through a slurm script \n",
    "\n",
    "#### optimize -c 2 -j force_mathcing_tutorial -i input_file -Ref ReferenceData -prep prepsystem\n",
    "\n",
    "* This may take 2 ~ 3 hours depending on the initial guess"
   ]
  },
  {
   "cell_type": "markdown",
   "metadata": {},
   "source": [
    "### Step 5: results"
   ]
  },
  {
   "cell_type": "markdown",
   "metadata": {},
   "source": [
    "#### The objective function vs iterations: \n",
    "<img src=\"Force_objective.png\" width=\"600\">"
   ]
  },
  {
   "cell_type": "markdown",
   "metadata": {},
   "source": [
    "#### forces distributions: \n",
    "   \n",
    "<img src=\"force_mW_300K_guess_ref.png\" width=\"600\"/>\n",
    "<img src=\"force_mW_300K_best_ref.png\" width=\"600\"/>\n",
    "\n"
   ]
  },
  {
   "cell_type": "markdown",
   "metadata": {},
   "source": [
    "### Reference: \n",
    "[1]: Ercolessi, F., & Adams, J. B. (1994). Interatomic Potentials from First-Principles Calculations: The Force-Matching Method. Europhysics Letters ({EPL}), 26(8), 583–588. https://doi.org/10.1209/0295-5075/26/8/005\n",
    "\n",
    "[2]: Wang, L. P., Chen, J., & Van Voorhis, T. (2013). Systematic parametrization of oolarizable force fields from quantum chemistry data. Journal of Chemical Theory and Computation. https://doi.org/10.1021/ct300826t"
   ]
  },
  {
   "cell_type": "code",
   "execution_count": null,
   "metadata": {},
   "outputs": [],
   "source": []
  }
 ],
 "metadata": {
  "kernelspec": {
   "display_name": "Python 3",
   "language": "python",
   "name": "python3"
  },
  "language_info": {
   "codemirror_mode": {
    "name": "ipython",
    "version": 3
   },
   "file_extension": ".py",
   "mimetype": "text/x-python",
   "name": "python",
   "nbconvert_exporter": "python",
   "pygments_lexer": "ipython3",
   "version": "3.7.6"
  }
 },
 "nbformat": 4,
 "nbformat_minor": 4
}
