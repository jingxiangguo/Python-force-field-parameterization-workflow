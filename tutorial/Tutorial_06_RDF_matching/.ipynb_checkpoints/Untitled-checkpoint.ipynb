{
 "cells": [
  {
   "cell_type": "markdown",
   "metadata": {},
   "source": [
    "## Tutorial 06 RDF  matching\n",
    "\n",
    "\n",
    "#### This tutorial demonstrates how to perform the RDF amatching. \n",
    "\n"
   ]
  },
  {
   "cell_type": "markdown",
   "metadata": {},
   "source": [
    "\n",
    "$$\\Large  \\chi^2 = \\frac{\\int_{0}^{R}{[rg_{OO}^{predict}(r)-rg_{OO}^{Ref}(r)]^{2}dr}}{\\int_{0}^{R}(rg_{OO}^{Ref}(r)-r)^{2}dr}$$\n",
    "\n"
   ]
  },
  {
   "cell_type": "markdown",
   "metadata": {},
   "source": [
    "### In input file "
   ]
  },
  {
   "cell_type": "markdown",
   "metadata": {},
   "source": [
    "#### Define the objective function: \n",
    "\n",
    "rdf mW_300K_1bar 1 4 4 bf 5001 c 10 b 100 t 2501\n",
    "\n",
    "* \"bf\": The number of configurations read into memory by one core\n",
    "* \"c\": the cutoff to compute the rdf\n",
    "* \"b\": the number of bins for a given cutoff \n",
    "* \"t\": termination condition. Confirm that the number of configurations in dcd file is 2501, and the following objective function evaluations can proceed. "
   ]
  },
  {
   "cell_type": "markdown",
   "metadata": {},
   "source": [
    "### Result: \n",
    "\n",
    "* The progress of the optimization: objective function vs number of iteratons \n",
    "\n",
    "<img src=\"RDF_objective.png\" width=\"600\">"
   ]
  },
  {
   "cell_type": "markdown",
   "metadata": {},
   "source": [
    "* RDF by initial guess (Guess) vs. RDF by standard mW (Ref) \n",
    "\n",
    "<img src=\"gr_mW_300K_guess_ref.png\" width=\"600\">"
   ]
  },
  {
   "cell_type": "markdown",
   "metadata": {},
   "source": [
    "* RDF by initial guess (Best Predicted) vs. RDF by standard mW (Ref) \n",
    "<img src=\"gr_mW_300K_best_ref.png\" width=\"600\">"
   ]
  },
  {
   "cell_type": "markdown",
   "metadata": {},
   "source": [
    "### Reference: \n",
    "\n",
    "[1] S. Sundararaman, L. Huang, S. Ispas, and W. Kob. New optimization scheme toobtain interaction potentials for oxide glasses.The Journal of Chemical Physics,148(19):194504, 2018."
   ]
  },
  {
   "cell_type": "code",
   "execution_count": null,
   "metadata": {},
   "outputs": [],
   "source": []
  }
 ],
 "metadata": {
  "kernelspec": {
   "display_name": "Python 3",
   "language": "python",
   "name": "python3"
  },
  "language_info": {
   "codemirror_mode": {
    "name": "ipython",
    "version": 3
   },
   "file_extension": ".py",
   "mimetype": "text/x-python",
   "name": "python",
   "nbconvert_exporter": "python",
   "pygments_lexer": "ipython3",
   "version": "3.7.6"
  }
 },
 "nbformat": 4,
 "nbformat_minor": 4
}
