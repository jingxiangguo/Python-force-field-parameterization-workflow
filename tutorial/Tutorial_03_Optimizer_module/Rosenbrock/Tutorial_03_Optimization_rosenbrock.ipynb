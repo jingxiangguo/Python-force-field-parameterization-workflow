{
 "cells": [
  {
   "cell_type": "markdown",
   "metadata": {},
   "source": [
    "# Tutorial 03: Solving for Rosenbrock function"
   ]
  },
  {
   "cell_type": "code",
   "execution_count": 2,
   "metadata": {
    "lines_to_next_cell": 1
   },
   "outputs": [],
   "source": [
    "# After you successfully install the package and activate a conda environment\n",
    "from optimizer.gradient_free import NelderMeadSimplex\n",
    "import numpy as np\n",
    "import matplotlib.pyplot as plt"
   ]
  },
  {
   "cell_type": "code",
   "execution_count": 3,
   "metadata": {},
   "outputs": [],
   "source": [
    "class Rosenbrock():\n",
    "\n",
    "    # initialize an instance of Rosenbrock class\n",
    "    def __init__(self, x_ranges, y_ranges):\n",
    "\n",
    "        self.x_limit = np.arange(x_ranges[0],x_ranges[1],x_ranges[-1])\n",
    "\n",
    "        self.y_limit = np.arange(y_ranges[0],y_ranges[1],y_ranges[-1])\n",
    "\n",
    "        self.z_mat = np.zeros((self.x_limit.size, self.y_limit.size))\n",
    "\n",
    "        counter_x = 0\n",
    "\n",
    "        for x in self.x_limit:\n",
    "\n",
    "            counter_y = 0\n",
    "\n",
    "            for y in self.y_limit:\n",
    "\n",
    "                self.z_mat[counter_x, counter_y] = np.log10(self.compute_z(np.array([x, y])))\n",
    "\n",
    "                counter_y += 1\n",
    "\n",
    "            counter_x += 1\n",
    "\n",
    "        return None\n",
    "\n",
    "    def visualize(self):\n",
    "\n",
    "        plt.xlabel(\"x\")\n",
    "\n",
    "        plt.ylabel(\"y\")\n",
    "\n",
    "        plt.contour(self.x_limit, self.y_limit, np.transpose(self.z_mat), 20)\n",
    "\n",
    "        plt.show()\n",
    "\n",
    "        return None\n",
    "\n",
    "    def compute_z(self,parameters):\n",
    "\n",
    "        sum_f_x = 0\n",
    "\n",
    "        for i in range(0, parameters.size - 1):\n",
    "\n",
    "            sum_f_x += ((1 - parameters[i] )**2 +\n",
    "                        100*(parameters[i+1]- parameters[i]**2)**2)\n",
    "\n",
    "        return (sum_f_x)**2\n",
    "\n",
    "    # \"update\" must be here. For force-matching, rdf-matching ..., this function\n",
    "    # will be used to update the best predicted properties. \n",
    "    def update(self, func_expand, best_func, status=None):\n",
    "\n",
    "        pass\n",
    "\n",
    "        return None \n",
    "\n",
    "    # method \"optimize\" must be here. the optimizer will assume every \n",
    "    # passed objective function will have a attribute of \"optimize\"\n",
    "    # \"para_type_lst\", and \"status\" also must be here, though they are not used\n",
    "    def optimize(self, para_type_lst, parameters, status=None):\n",
    "\n",
    "        return self.compute_z(parameters)"
   ]
  },
  {
   "cell_type": "code",
   "execution_count": null,
   "metadata": {},
   "outputs": [],
   "source": []
  },
  {
   "cell_type": "code",
   "execution_count": 4,
   "metadata": {},
   "outputs": [],
   "source": [
    "# input file name\n",
    "input_file = \"in_rosenbrock\""
   ]
  },
  {
   "cell_type": "code",
   "execution_count": 5,
   "metadata": {},
   "outputs": [],
   "source": [
    "# No lines skipped:\n",
    "skipped_lines = 0"
   ]
  },
  {
   "cell_type": "code",
   "execution_count": 6,
   "metadata": {},
   "outputs": [],
   "source": [
    "# The solution space of Rosenbrock function:\n",
    "x = [-2, 2, 0.01]\n",
    "y = [-2, 2, 0.01]"
   ]
  },
  {
   "cell_type": "code",
   "execution_count": 7,
   "metadata": {},
   "outputs": [],
   "source": [
    "# Initialize objective function of Rosenbrock function\n",
    "Rosenbrock_obj = Rosenbrock(x, y)"
   ]
  },
  {
   "cell_type": "code",
   "execution_count": 8,
   "metadata": {},
   "outputs": [
    {
     "data": {
      "image/png": "[encoded data removed]",
      "text/plain": [
       "<Figure size 432x288 with 1 Axes>"
      ]
     },
     "metadata": {
      "needs_background": "light"
     },
     "output_type": "display_data"
    }
   ],
   "source": [
    "# Visualize the solution space of Rosenbrock\n",
    "# global minimum: x = 1.0, y = 1.0 \n",
    "Rosenbrock_obj.visualize() "
   ]
  },
  {
   "cell_type": "code",
   "execution_count": null,
   "metadata": {},
   "outputs": [],
   "source": [
    "# initialize optimizer ...\n",
    "optimize_rosen = NelderMeadSimplex(input_file,\n",
    "                                   Rosenbrock_obj,\n",
    "                                   skipped=skipped_lines)\n",
    "# Optimization starts ...\n",
    "optimize_rosen.run_optimization() "
   ]
  },
  {
   "cell_type": "code",
   "execution_count": null,
   "metadata": {
    "lines_to_next_cell": 2
   },
   "outputs": [],
   "source": [
    "# Load the solutions:\n",
    "with open(\"best_parameters.txt\") as content: \n",
    "\n",
    "    for line in content:\n",
    "\n",
    "        solution = np.array(line.split()).astype(np.float64)\n",
    "\n",
    "    x, y = solution\n",
    "    print(\"The solution x = %.4f, y = %.4f\" % (x, y))"
   ]
  }
 ],
 "metadata": {
  "jupytext": {
   "cell_metadata_filter": "-all",
   "main_language": "python",
   "notebook_metadata_filter": "-all"
  },
  "kernelspec": {
   "display_name": "Python 3",
   "language": "python",
   "name": "python3"
  },
  "language_info": {
   "codemirror_mode": {
    "name": "ipython",
    "version": 3
   },
   "file_extension": ".py",
   "mimetype": "text/x-python",
   "name": "python",
   "nbconvert_exporter": "python",
   "pygments_lexer": "ipython3",
   "version": "3.7.6"
  }
 },
 "nbformat": 4,
 "nbformat_minor": 4
}
