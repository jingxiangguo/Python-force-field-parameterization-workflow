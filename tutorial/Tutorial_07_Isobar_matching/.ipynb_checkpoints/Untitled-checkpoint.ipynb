{
 "cells": [
  {
   "cell_type": "markdown",
   "metadata": {},
   "source": [
    "## Tutorial 07 Isobars matching\n"
   ]
  },
  {
   "cell_type": "markdown",
   "metadata": {},
   "source": [
    "$$\\Large \\chi^{2} = \\sum_T \\frac{{( \\rho^{predict}_{T} - \\rho^{Ref}_{T} )^2}}{Var(\\rho^{Ref}(T))} + Penalty$$\n"
   ]
  },
  {
   "cell_type": "markdown",
   "metadata": {},
   "source": [
    "$$\\Large Penalty = max(N - N^{Match} - N^{tolerance},0)$$\n",
    "$$\\Large N^{Match}=\\sum^{T_{i}}\\delta(N_{ref}-N_predict) $$"
   ]
  },
  {
   "cell_type": "markdown",
   "metadata": {},
   "source": [
    "### In input file: \n",
    "\n",
    "#### Defining objective functions:  \n",
    "\n",
    "isobar mW_300K_1bar 1 24 1 Temp 230 240 250 260 270 280 tol 0 t 2801\n",
    "\n",
    "* \"Temp\": a list of temperature that will be used in the isobar matching\n",
    "\n",
    "* \"tol\": tolerence for the correct ordering Temperature corresponding to its density. \"tol\" should be smaller or equal to the number of temperature listed in \"Temp\". This parameter determine how severe the penalty will be.  \n",
    "\n",
    "* \"t\": termination criterion. The simulation finishes when the number of frames in dcd file is 2801. \n",
    "\n"
   ]
  },
  {
   "cell_type": "markdown",
   "metadata": {},
   "source": [
    "### Results:"
   ]
  },
  {
   "cell_type": "markdown",
   "metadata": {},
   "source": [
    "* The progress of the optimization: objective function vs number of iteratons \n",
    "\n",
    "<img src=\"isobar_objective.png\" width=\"600\">"
   ]
  },
  {
   "cell_type": "markdown",
   "metadata": {},
   "source": [
    "* Isobar by initial guess (Guess) vs. Isobar by standard mW (Ref) \n",
    "    \n",
    "<img src=\"isobar_mW_300K_guess_ref.png\" width=\"600\">"
   ]
  },
  {
   "cell_type": "markdown",
   "metadata": {},
   "source": [
    "* Isobar by best predicted (Best Predicted) vs. Isobar by standard mW (Ref) \n",
    "\n",
    "<img src=\"isobar_mW_300K_best_ref.png\" width=\"600\">"
   ]
  },
  {
   "cell_type": "code",
   "execution_count": null,
   "metadata": {},
   "outputs": [],
   "source": []
  }
 ],
 "metadata": {
  "kernelspec": {
   "display_name": "Python 3",
   "language": "python",
   "name": "python3"
  },
  "language_info": {
   "codemirror_mode": {
    "name": "ipython",
    "version": 3
   },
   "file_extension": ".py",
   "mimetype": "text/x-python",
   "name": "python",
   "nbconvert_exporter": "python",
   "pygments_lexer": "ipython3",
   "version": "3.7.6"
  }
 },
 "nbformat": 4,
 "nbformat_minor": 4
}
